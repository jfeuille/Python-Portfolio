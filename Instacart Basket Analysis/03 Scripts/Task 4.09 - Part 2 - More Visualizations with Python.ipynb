{
 "cells": [
  {
   "cell_type": "markdown",
   "id": "14267544",
   "metadata": {},
   "source": [
    "# 0.1 Setup"
   ]
  },
  {
   "cell_type": "code",
   "execution_count": 1,
   "id": "33ba4734",
   "metadata": {},
   "outputs": [],
   "source": [
    "# Import libraries\n",
    "\n",
    "import pandas as pd\n",
    "import numpy as np\n",
    "import os\n",
    "import matplotlib.pyplot as plt\n",
    "import seaborn as sns\n",
    "import scipy"
   ]
  },
  {
   "cell_type": "code",
   "execution_count": 2,
   "id": "99f440e7",
   "metadata": {},
   "outputs": [],
   "source": [
    "# Define path to project folders\n",
    "\n",
    "path = r'/Users/joefeuille/CF Analysis/Instacart Basket Analysis'"
   ]
  },
  {
   "cell_type": "code",
   "execution_count": 3,
   "id": "e00211d7",
   "metadata": {},
   "outputs": [],
   "source": [
    "# Setting combo df from Part 1 as combo_df\n",
    "combo_df = pd.read_pickle(os.path.join(path, '02 Data', 'Prepared Data', 'combo_opm_cust.pkl'))"
   ]
  },
  {
   "cell_type": "markdown",
   "id": "7c947566",
   "metadata": {},
   "source": [
    "# 0.2 Verify"
   ]
  },
  {
   "cell_type": "code",
   "execution_count": 4,
   "id": "a7c484e0",
   "metadata": {},
   "outputs": [
    {
     "data": {
      "text/plain": [
       "(32435070, 36)"
      ]
     },
     "execution_count": 4,
     "metadata": {},
     "output_type": "execute_result"
    }
   ],
   "source": [
    "combo_df.shape"
   ]
  },
  {
   "cell_type": "code",
   "execution_count": 5,
   "id": "d945b368",
   "metadata": {},
   "outputs": [
    {
     "data": {
      "text/html": [
       "<div>\n",
       "<style scoped>\n",
       "    .dataframe tbody tr th:only-of-type {\n",
       "        vertical-align: middle;\n",
       "    }\n",
       "\n",
       "    .dataframe tbody tr th {\n",
       "        vertical-align: top;\n",
       "    }\n",
       "\n",
       "    .dataframe thead th {\n",
       "        text-align: right;\n",
       "    }\n",
       "</style>\n",
       "<table border=\"1\" class=\"dataframe\">\n",
       "  <thead>\n",
       "    <tr style=\"text-align: right;\">\n",
       "      <th></th>\n",
       "      <th>order_id</th>\n",
       "      <th>user_id</th>\n",
       "      <th>eval_set</th>\n",
       "      <th>order_number</th>\n",
       "      <th>orders_day_of_week</th>\n",
       "      <th>order_time_of_day</th>\n",
       "      <th>days_since_prior_order</th>\n",
       "      <th>first_time_ordering</th>\n",
       "      <th>product_id</th>\n",
       "      <th>add_to_cart_order</th>\n",
       "      <th>...</th>\n",
       "      <th>first_name</th>\n",
       "      <th>last_name</th>\n",
       "      <th>gender</th>\n",
       "      <th>state</th>\n",
       "      <th>age</th>\n",
       "      <th>date_joined</th>\n",
       "      <th>number_dependants</th>\n",
       "      <th>family_status</th>\n",
       "      <th>income</th>\n",
       "      <th>_merge</th>\n",
       "    </tr>\n",
       "  </thead>\n",
       "  <tbody>\n",
       "    <tr>\n",
       "      <th>0</th>\n",
       "      <td>2539329.0</td>\n",
       "      <td>1.0</td>\n",
       "      <td>prior</td>\n",
       "      <td>1.0</td>\n",
       "      <td>2.0</td>\n",
       "      <td>8.0</td>\n",
       "      <td>NaN</td>\n",
       "      <td>True</td>\n",
       "      <td>196</td>\n",
       "      <td>1.0</td>\n",
       "      <td>...</td>\n",
       "      <td>Linda</td>\n",
       "      <td>Nguyen</td>\n",
       "      <td>Female</td>\n",
       "      <td>Alabama</td>\n",
       "      <td>31.0</td>\n",
       "      <td>2/17/2019</td>\n",
       "      <td>3.0</td>\n",
       "      <td>married</td>\n",
       "      <td>40423.0</td>\n",
       "      <td>both</td>\n",
       "    </tr>\n",
       "    <tr>\n",
       "      <th>1</th>\n",
       "      <td>2398795.0</td>\n",
       "      <td>1.0</td>\n",
       "      <td>prior</td>\n",
       "      <td>2.0</td>\n",
       "      <td>3.0</td>\n",
       "      <td>7.0</td>\n",
       "      <td>15.0</td>\n",
       "      <td>False</td>\n",
       "      <td>196</td>\n",
       "      <td>1.0</td>\n",
       "      <td>...</td>\n",
       "      <td>Linda</td>\n",
       "      <td>Nguyen</td>\n",
       "      <td>Female</td>\n",
       "      <td>Alabama</td>\n",
       "      <td>31.0</td>\n",
       "      <td>2/17/2019</td>\n",
       "      <td>3.0</td>\n",
       "      <td>married</td>\n",
       "      <td>40423.0</td>\n",
       "      <td>both</td>\n",
       "    </tr>\n",
       "    <tr>\n",
       "      <th>2</th>\n",
       "      <td>473747.0</td>\n",
       "      <td>1.0</td>\n",
       "      <td>prior</td>\n",
       "      <td>3.0</td>\n",
       "      <td>3.0</td>\n",
       "      <td>12.0</td>\n",
       "      <td>21.0</td>\n",
       "      <td>False</td>\n",
       "      <td>196</td>\n",
       "      <td>1.0</td>\n",
       "      <td>...</td>\n",
       "      <td>Linda</td>\n",
       "      <td>Nguyen</td>\n",
       "      <td>Female</td>\n",
       "      <td>Alabama</td>\n",
       "      <td>31.0</td>\n",
       "      <td>2/17/2019</td>\n",
       "      <td>3.0</td>\n",
       "      <td>married</td>\n",
       "      <td>40423.0</td>\n",
       "      <td>both</td>\n",
       "    </tr>\n",
       "    <tr>\n",
       "      <th>3</th>\n",
       "      <td>2254736.0</td>\n",
       "      <td>1.0</td>\n",
       "      <td>prior</td>\n",
       "      <td>4.0</td>\n",
       "      <td>4.0</td>\n",
       "      <td>7.0</td>\n",
       "      <td>29.0</td>\n",
       "      <td>False</td>\n",
       "      <td>196</td>\n",
       "      <td>1.0</td>\n",
       "      <td>...</td>\n",
       "      <td>Linda</td>\n",
       "      <td>Nguyen</td>\n",
       "      <td>Female</td>\n",
       "      <td>Alabama</td>\n",
       "      <td>31.0</td>\n",
       "      <td>2/17/2019</td>\n",
       "      <td>3.0</td>\n",
       "      <td>married</td>\n",
       "      <td>40423.0</td>\n",
       "      <td>both</td>\n",
       "    </tr>\n",
       "    <tr>\n",
       "      <th>4</th>\n",
       "      <td>431534.0</td>\n",
       "      <td>1.0</td>\n",
       "      <td>prior</td>\n",
       "      <td>5.0</td>\n",
       "      <td>4.0</td>\n",
       "      <td>15.0</td>\n",
       "      <td>28.0</td>\n",
       "      <td>False</td>\n",
       "      <td>196</td>\n",
       "      <td>1.0</td>\n",
       "      <td>...</td>\n",
       "      <td>Linda</td>\n",
       "      <td>Nguyen</td>\n",
       "      <td>Female</td>\n",
       "      <td>Alabama</td>\n",
       "      <td>31.0</td>\n",
       "      <td>2/17/2019</td>\n",
       "      <td>3.0</td>\n",
       "      <td>married</td>\n",
       "      <td>40423.0</td>\n",
       "      <td>both</td>\n",
       "    </tr>\n",
       "  </tbody>\n",
       "</table>\n",
       "<p>5 rows × 36 columns</p>\n",
       "</div>"
      ],
      "text/plain": [
       "    order_id  user_id eval_set  order_number  orders_day_of_week  \\\n",
       "0  2539329.0      1.0    prior           1.0                 2.0   \n",
       "1  2398795.0      1.0    prior           2.0                 3.0   \n",
       "2   473747.0      1.0    prior           3.0                 3.0   \n",
       "3  2254736.0      1.0    prior           4.0                 4.0   \n",
       "4   431534.0      1.0    prior           5.0                 4.0   \n",
       "\n",
       "   order_time_of_day  days_since_prior_order first_time_ordering  product_id  \\\n",
       "0                8.0                     NaN                True         196   \n",
       "1                7.0                    15.0               False         196   \n",
       "2               12.0                    21.0               False         196   \n",
       "3                7.0                    29.0               False         196   \n",
       "4               15.0                    28.0               False         196   \n",
       "\n",
       "   add_to_cart_order  ...  first_name last_name  gender    state   age  \\\n",
       "0                1.0  ...       Linda    Nguyen  Female  Alabama  31.0   \n",
       "1                1.0  ...       Linda    Nguyen  Female  Alabama  31.0   \n",
       "2                1.0  ...       Linda    Nguyen  Female  Alabama  31.0   \n",
       "3                1.0  ...       Linda    Nguyen  Female  Alabama  31.0   \n",
       "4                1.0  ...       Linda    Nguyen  Female  Alabama  31.0   \n",
       "\n",
       "  date_joined number_dependants family_status   income _merge  \n",
       "0   2/17/2019               3.0       married  40423.0   both  \n",
       "1   2/17/2019               3.0       married  40423.0   both  \n",
       "2   2/17/2019               3.0       married  40423.0   both  \n",
       "3   2/17/2019               3.0       married  40423.0   both  \n",
       "4   2/17/2019               3.0       married  40423.0   both  \n",
       "\n",
       "[5 rows x 36 columns]"
      ]
     },
     "execution_count": 5,
     "metadata": {},
     "output_type": "execute_result"
    }
   ],
   "source": [
    "combo_df.head()"
   ]
  },
  {
   "cell_type": "markdown",
   "id": "17841515",
   "metadata": {},
   "source": [
    "# Q.2 - Create a bar chart, a histogram, a scatterplot, and a line chart, using a sample subset for the line chart."
   ]
  },
  {
   "cell_type": "markdown",
   "id": "a3522e36",
   "metadata": {},
   "source": [
    "### Bar Charts"
   ]
  },
  {
   "cell_type": "code",
   "execution_count": 9,
   "id": "e658d5dd",
   "metadata": {},
   "outputs": [
    {
     "data": {
      "text/plain": [
       "<AxesSubplot:>"
      ]
     },
     "execution_count": 9,
     "metadata": {},
     "output_type": "execute_result"
    },
    {
     "data": {
      "image/png": "[encoded data removed]",
      "text/plain": [
       "<Figure size 432x288 with 1 Axes>"
      ]
     },
     "metadata": {
      "needs_background": "light"
     },
     "output_type": "display_data"
    }
   ],
   "source": [
    "# Creaing a bar chart of Orders DOW using plot.bar()\n",
    "\n",
    "combo_df['orders_day_of_week'].value_counts().plot.bar()"
   ]
  },
  {
   "cell_type": "code",
   "execution_count": 10,
   "id": "b97b3156",
   "metadata": {},
   "outputs": [
    {
     "data": {
      "text/plain": [
       "<AxesSubplot:>"
      ]
     },
     "execution_count": 10,
     "metadata": {},
     "output_type": "execute_result"
    },
    {
     "data": {
      "image/png": "[encoded data removed]",
      "text/plain": [
       "<Figure size 432x288 with 1 Axes>"
      ]
     },
     "metadata": {
      "needs_background": "light"
     },
     "output_type": "display_data"
    }
   ],
   "source": [
    "# Same, using sort_index()\n",
    "\n",
    "combo_df['orders_day_of_week'].value_counts().sort_index().plot.bar()"
   ]
  },
  {
   "cell_type": "code",
   "execution_count": 11,
   "id": "2bdd85f4",
   "metadata": {},
   "outputs": [
    {
     "data": {
      "text/plain": [
       "<AxesSubplot:>"
      ]
     },
     "execution_count": 11,
     "metadata": {},
     "output_type": "execute_result"
    },
    {
     "data": {
      "image/png": "[encoded data removed]",
      "text/plain": [
       "<Figure size 432x288 with 1 Axes>"
      ]
     },
     "metadata": {
      "needs_background": "light"
     },
     "output_type": "display_data"
    }
   ],
   "source": [
    "# Same, using color function\n",
    "\n",
    "combo_df['orders_day_of_week'].value_counts().plot.bar(color = ['purple', 'red', 'pink', 'orange', 'yellow', 'green', 'blue'])"
   ]
  },
  {
   "cell_type": "code",
   "execution_count": 12,
   "id": "2bafc4f1",
   "metadata": {},
   "outputs": [
    {
     "data": {
      "image/png": "[encoded data removed]",
      "text/plain": [
       "<Figure size 432x288 with 1 Axes>"
      ]
     },
     "metadata": {
      "needs_background": "light"
     },
     "output_type": "display_data"
    }
   ],
   "source": [
    "# Naming colored bar chart for exporting\n",
    "\n",
    "color_bar = combo_df['orders_day_of_week'].value_counts().plot.bar(color = ['purple', 'red', 'pink', 'orange', 'yellow', 'green', 'blue'])"
   ]
  },
  {
   "cell_type": "code",
   "execution_count": 13,
   "id": "253e78f7",
   "metadata": {},
   "outputs": [],
   "source": [
    "# Exporting bar chart with savefig()\n",
    "\n",
    "color_bar.figure.savefig(os.path.join(path, '04 Analysis', 'Visualizations', 'color_bar_orders_dow.png'))"
   ]
  },
  {
   "cell_type": "markdown",
   "id": "7c12f6de",
   "metadata": {},
   "source": [
    "### Histograms & Scatterplots"
   ]
  },
  {
   "cell_type": "code",
   "execution_count": 14,
   "id": "5c8df8e8",
   "metadata": {},
   "outputs": [
    {
     "data": {
      "text/plain": [
       "<AxesSubplot:ylabel='Frequency'>"
      ]
     },
     "execution_count": 14,
     "metadata": {},
     "output_type": "execute_result"
    },
    {
     "data": {
      "image/png": "[encoded data removed]",
      "text/plain": [
       "<Figure size 432x288 with 1 Axes>"
      ]
     },
     "metadata": {
      "needs_background": "light"
     },
     "output_type": "display_data"
    }
   ],
   "source": [
    "# Creating a histogram of Prices using plot.hist & bars functions\n",
    "\n",
    "combo_df['prices'].plot.hist(bins = 25)"
   ]
  },
  {
   "cell_type": "code",
   "execution_count": 15,
   "id": "7fc06554",
   "metadata": {},
   "outputs": [
    {
     "data": {
      "text/plain": [
       "count    3.240487e+07\n",
       "mean     1.198022e+01\n",
       "std      4.956554e+02\n",
       "min      1.000000e+00\n",
       "25%      4.200000e+00\n",
       "50%      7.400000e+00\n",
       "75%      1.130000e+01\n",
       "max      9.999900e+04\n",
       "Name: prices, dtype: float64"
      ]
     },
     "execution_count": 15,
     "metadata": {},
     "output_type": "execute_result"
    }
   ],
   "source": [
    "combo_df['prices'].describe()"
   ]
  },
  {
   "cell_type": "code",
   "execution_count": 16,
   "id": "d3a721e7",
   "metadata": {},
   "outputs": [
    {
     "data": {
      "text/plain": [
       "99999.0"
      ]
     },
     "execution_count": 16,
     "metadata": {},
     "output_type": "execute_result"
    }
   ],
   "source": [
    "combo_df['prices'].max()"
   ]
  },
  {
   "cell_type": "code",
   "execution_count": 17,
   "id": "3fc90888",
   "metadata": {},
   "outputs": [
    {
     "data": {
      "text/plain": [
       "<AxesSubplot:xlabel='prices', ylabel='prices'>"
      ]
     },
     "execution_count": 17,
     "metadata": {},
     "output_type": "execute_result"
    },
    {
     "data": {
      "image/png": "[encoded data removed]",
      "text/plain": [
       "<Figure size 432x288 with 1 Axes>"
      ]
     },
     "metadata": {
      "needs_background": "light"
     },
     "output_type": "display_data"
    }
   ],
   "source": [
    "# Creating scatterplot for Prices\n",
    "\n",
    "sns.scatterplot(x = 'prices', y = 'prices', data = combo_df)"
   ]
  },
  {
   "cell_type": "code",
   "execution_count": 6,
   "id": "63a64ec6",
   "metadata": {},
   "outputs": [
    {
     "data": {
      "text/html": [
       "<div>\n",
       "<style scoped>\n",
       "    .dataframe tbody tr th:only-of-type {\n",
       "        vertical-align: middle;\n",
       "    }\n",
       "\n",
       "    .dataframe tbody tr th {\n",
       "        vertical-align: top;\n",
       "    }\n",
       "\n",
       "    .dataframe thead th {\n",
       "        text-align: right;\n",
       "    }\n",
       "</style>\n",
       "<table border=\"1\" class=\"dataframe\">\n",
       "  <thead>\n",
       "    <tr style=\"text-align: right;\">\n",
       "      <th></th>\n",
       "      <th>order_id</th>\n",
       "      <th>user_id</th>\n",
       "      <th>eval_set</th>\n",
       "      <th>order_number</th>\n",
       "      <th>orders_day_of_week</th>\n",
       "      <th>order_time_of_day</th>\n",
       "      <th>days_since_prior_order</th>\n",
       "      <th>first_time_ordering</th>\n",
       "      <th>product_id</th>\n",
       "      <th>add_to_cart_order</th>\n",
       "      <th>...</th>\n",
       "      <th>first_name</th>\n",
       "      <th>last_name</th>\n",
       "      <th>gender</th>\n",
       "      <th>state</th>\n",
       "      <th>age</th>\n",
       "      <th>date_joined</th>\n",
       "      <th>number_dependants</th>\n",
       "      <th>family_status</th>\n",
       "      <th>income</th>\n",
       "      <th>_merge</th>\n",
       "    </tr>\n",
       "  </thead>\n",
       "  <tbody>\n",
       "    <tr>\n",
       "      <th>7816</th>\n",
       "      <td>1435153.0</td>\n",
       "      <td>1519.0</td>\n",
       "      <td>prior</td>\n",
       "      <td>26.0</td>\n",
       "      <td>2.0</td>\n",
       "      <td>11.0</td>\n",
       "      <td>6.0</td>\n",
       "      <td>False</td>\n",
       "      <td>21553</td>\n",
       "      <td>15.0</td>\n",
       "      <td>...</td>\n",
       "      <td>Craig</td>\n",
       "      <td>Clark</td>\n",
       "      <td>Male</td>\n",
       "      <td>Rhode Island</td>\n",
       "      <td>68.0</td>\n",
       "      <td>3/4/2020</td>\n",
       "      <td>0.0</td>\n",
       "      <td>divorced/widowed</td>\n",
       "      <td>177864.0</td>\n",
       "      <td>both</td>\n",
       "    </tr>\n",
       "    <tr>\n",
       "      <th>7817</th>\n",
       "      <td>1066435.0</td>\n",
       "      <td>1519.0</td>\n",
       "      <td>prior</td>\n",
       "      <td>32.0</td>\n",
       "      <td>3.0</td>\n",
       "      <td>10.0</td>\n",
       "      <td>5.0</td>\n",
       "      <td>False</td>\n",
       "      <td>21553</td>\n",
       "      <td>28.0</td>\n",
       "      <td>...</td>\n",
       "      <td>Craig</td>\n",
       "      <td>Clark</td>\n",
       "      <td>Male</td>\n",
       "      <td>Rhode Island</td>\n",
       "      <td>68.0</td>\n",
       "      <td>3/4/2020</td>\n",
       "      <td>0.0</td>\n",
       "      <td>divorced/widowed</td>\n",
       "      <td>177864.0</td>\n",
       "      <td>both</td>\n",
       "    </tr>\n",
       "    <tr>\n",
       "      <th>15172</th>\n",
       "      <td>1697208.0</td>\n",
       "      <td>2409.0</td>\n",
       "      <td>prior</td>\n",
       "      <td>33.0</td>\n",
       "      <td>1.0</td>\n",
       "      <td>19.0</td>\n",
       "      <td>5.0</td>\n",
       "      <td>False</td>\n",
       "      <td>21553</td>\n",
       "      <td>1.0</td>\n",
       "      <td>...</td>\n",
       "      <td>Nicole</td>\n",
       "      <td>Odonnell</td>\n",
       "      <td>Female</td>\n",
       "      <td>Hawaii</td>\n",
       "      <td>55.0</td>\n",
       "      <td>11/11/2018</td>\n",
       "      <td>2.0</td>\n",
       "      <td>married</td>\n",
       "      <td>230074.0</td>\n",
       "      <td>both</td>\n",
       "    </tr>\n",
       "    <tr>\n",
       "      <th>20294</th>\n",
       "      <td>965345.0</td>\n",
       "      <td>3531.0</td>\n",
       "      <td>prior</td>\n",
       "      <td>27.0</td>\n",
       "      <td>2.0</td>\n",
       "      <td>19.0</td>\n",
       "      <td>8.0</td>\n",
       "      <td>False</td>\n",
       "      <td>33664</td>\n",
       "      <td>2.0</td>\n",
       "      <td>...</td>\n",
       "      <td>Alice</td>\n",
       "      <td>Compton</td>\n",
       "      <td>Female</td>\n",
       "      <td>Hawaii</td>\n",
       "      <td>80.0</td>\n",
       "      <td>10/6/2019</td>\n",
       "      <td>2.0</td>\n",
       "      <td>married</td>\n",
       "      <td>233776.0</td>\n",
       "      <td>both</td>\n",
       "    </tr>\n",
       "    <tr>\n",
       "      <th>20528</th>\n",
       "      <td>2943740.0</td>\n",
       "      <td>3793.0</td>\n",
       "      <td>prior</td>\n",
       "      <td>1.0</td>\n",
       "      <td>2.0</td>\n",
       "      <td>9.0</td>\n",
       "      <td>NaN</td>\n",
       "      <td>True</td>\n",
       "      <td>21553</td>\n",
       "      <td>3.0</td>\n",
       "      <td>...</td>\n",
       "      <td>Jerry</td>\n",
       "      <td>Allen</td>\n",
       "      <td>Male</td>\n",
       "      <td>Louisiana</td>\n",
       "      <td>59.0</td>\n",
       "      <td>8/23/2019</td>\n",
       "      <td>3.0</td>\n",
       "      <td>married</td>\n",
       "      <td>182933.0</td>\n",
       "      <td>both</td>\n",
       "    </tr>\n",
       "    <tr>\n",
       "      <th>...</th>\n",
       "      <td>...</td>\n",
       "      <td>...</td>\n",
       "      <td>...</td>\n",
       "      <td>...</td>\n",
       "      <td>...</td>\n",
       "      <td>...</td>\n",
       "      <td>...</td>\n",
       "      <td>...</td>\n",
       "      <td>...</td>\n",
       "      <td>...</td>\n",
       "      <td>...</td>\n",
       "      <td>...</td>\n",
       "      <td>...</td>\n",
       "      <td>...</td>\n",
       "      <td>...</td>\n",
       "      <td>...</td>\n",
       "      <td>...</td>\n",
       "      <td>...</td>\n",
       "      <td>...</td>\n",
       "      <td>...</td>\n",
       "      <td>...</td>\n",
       "    </tr>\n",
       "    <tr>\n",
       "      <th>32333838</th>\n",
       "      <td>3265389.0</td>\n",
       "      <td>51346.0</td>\n",
       "      <td>prior</td>\n",
       "      <td>4.0</td>\n",
       "      <td>1.0</td>\n",
       "      <td>17.0</td>\n",
       "      <td>13.0</td>\n",
       "      <td>False</td>\n",
       "      <td>33664</td>\n",
       "      <td>2.0</td>\n",
       "      <td>...</td>\n",
       "      <td>nan</td>\n",
       "      <td>Gould</td>\n",
       "      <td>Male</td>\n",
       "      <td>Rhode Island</td>\n",
       "      <td>58.0</td>\n",
       "      <td>1/25/2019</td>\n",
       "      <td>1.0</td>\n",
       "      <td>married</td>\n",
       "      <td>207497.0</td>\n",
       "      <td>both</td>\n",
       "    </tr>\n",
       "    <tr>\n",
       "      <th>32337924</th>\n",
       "      <td>1179092.0</td>\n",
       "      <td>131671.0</td>\n",
       "      <td>prior</td>\n",
       "      <td>12.0</td>\n",
       "      <td>4.0</td>\n",
       "      <td>9.0</td>\n",
       "      <td>15.0</td>\n",
       "      <td>False</td>\n",
       "      <td>33664</td>\n",
       "      <td>1.0</td>\n",
       "      <td>...</td>\n",
       "      <td>Diana</td>\n",
       "      <td>Hansen</td>\n",
       "      <td>Female</td>\n",
       "      <td>Rhode Island</td>\n",
       "      <td>35.0</td>\n",
       "      <td>8/4/2018</td>\n",
       "      <td>0.0</td>\n",
       "      <td>single</td>\n",
       "      <td>86490.0</td>\n",
       "      <td>both</td>\n",
       "    </tr>\n",
       "    <tr>\n",
       "      <th>32340853</th>\n",
       "      <td>1226705.0</td>\n",
       "      <td>39667.0</td>\n",
       "      <td>prior</td>\n",
       "      <td>7.0</td>\n",
       "      <td>2.0</td>\n",
       "      <td>15.0</td>\n",
       "      <td>20.0</td>\n",
       "      <td>False</td>\n",
       "      <td>33664</td>\n",
       "      <td>14.0</td>\n",
       "      <td>...</td>\n",
       "      <td>Johnny</td>\n",
       "      <td>Colon</td>\n",
       "      <td>Male</td>\n",
       "      <td>Rhode Island</td>\n",
       "      <td>78.0</td>\n",
       "      <td>5/8/2019</td>\n",
       "      <td>2.0</td>\n",
       "      <td>married</td>\n",
       "      <td>195077.0</td>\n",
       "      <td>both</td>\n",
       "    </tr>\n",
       "    <tr>\n",
       "      <th>32360118</th>\n",
       "      <td>3000037.0</td>\n",
       "      <td>95105.0</td>\n",
       "      <td>prior</td>\n",
       "      <td>2.0</td>\n",
       "      <td>4.0</td>\n",
       "      <td>19.0</td>\n",
       "      <td>22.0</td>\n",
       "      <td>False</td>\n",
       "      <td>33664</td>\n",
       "      <td>4.0</td>\n",
       "      <td>...</td>\n",
       "      <td>Catherine</td>\n",
       "      <td>Browning</td>\n",
       "      <td>Female</td>\n",
       "      <td>South Carolina</td>\n",
       "      <td>48.0</td>\n",
       "      <td>1/18/2017</td>\n",
       "      <td>2.0</td>\n",
       "      <td>married</td>\n",
       "      <td>398880.0</td>\n",
       "      <td>both</td>\n",
       "    </tr>\n",
       "    <tr>\n",
       "      <th>32360119</th>\n",
       "      <td>2741225.0</td>\n",
       "      <td>95105.0</td>\n",
       "      <td>prior</td>\n",
       "      <td>4.0</td>\n",
       "      <td>5.0</td>\n",
       "      <td>12.0</td>\n",
       "      <td>2.0</td>\n",
       "      <td>False</td>\n",
       "      <td>33664</td>\n",
       "      <td>3.0</td>\n",
       "      <td>...</td>\n",
       "      <td>Catherine</td>\n",
       "      <td>Browning</td>\n",
       "      <td>Female</td>\n",
       "      <td>South Carolina</td>\n",
       "      <td>48.0</td>\n",
       "      <td>1/18/2017</td>\n",
       "      <td>2.0</td>\n",
       "      <td>married</td>\n",
       "      <td>398880.0</td>\n",
       "      <td>both</td>\n",
       "    </tr>\n",
       "  </tbody>\n",
       "</table>\n",
       "<p>5127 rows × 36 columns</p>\n",
       "</div>"
      ],
      "text/plain": [
       "           order_id   user_id eval_set  order_number  orders_day_of_week  \\\n",
       "7816      1435153.0    1519.0    prior          26.0                 2.0   \n",
       "7817      1066435.0    1519.0    prior          32.0                 3.0   \n",
       "15172     1697208.0    2409.0    prior          33.0                 1.0   \n",
       "20294      965345.0    3531.0    prior          27.0                 2.0   \n",
       "20528     2943740.0    3793.0    prior           1.0                 2.0   \n",
       "...             ...       ...      ...           ...                 ...   \n",
       "32333838  3265389.0   51346.0    prior           4.0                 1.0   \n",
       "32337924  1179092.0  131671.0    prior          12.0                 4.0   \n",
       "32340853  1226705.0   39667.0    prior           7.0                 2.0   \n",
       "32360118  3000037.0   95105.0    prior           2.0                 4.0   \n",
       "32360119  2741225.0   95105.0    prior           4.0                 5.0   \n",
       "\n",
       "          order_time_of_day  days_since_prior_order first_time_ordering  \\\n",
       "7816                   11.0                     6.0               False   \n",
       "7817                   10.0                     5.0               False   \n",
       "15172                  19.0                     5.0               False   \n",
       "20294                  19.0                     8.0               False   \n",
       "20528                   9.0                     NaN                True   \n",
       "...                     ...                     ...                 ...   \n",
       "32333838               17.0                    13.0               False   \n",
       "32337924                9.0                    15.0               False   \n",
       "32340853               15.0                    20.0               False   \n",
       "32360118               19.0                    22.0               False   \n",
       "32360119               12.0                     2.0               False   \n",
       "\n",
       "          product_id  add_to_cart_order  ...  first_name last_name  gender  \\\n",
       "7816           21553               15.0  ...       Craig     Clark    Male   \n",
       "7817           21553               28.0  ...       Craig     Clark    Male   \n",
       "15172          21553                1.0  ...      Nicole  Odonnell  Female   \n",
       "20294          33664                2.0  ...       Alice   Compton  Female   \n",
       "20528          21553                3.0  ...       Jerry     Allen    Male   \n",
       "...              ...                ...  ...         ...       ...     ...   \n",
       "32333838       33664                2.0  ...         nan     Gould    Male   \n",
       "32337924       33664                1.0  ...       Diana    Hansen  Female   \n",
       "32340853       33664               14.0  ...      Johnny     Colon    Male   \n",
       "32360118       33664                4.0  ...   Catherine  Browning  Female   \n",
       "32360119       33664                3.0  ...   Catherine  Browning  Female   \n",
       "\n",
       "                   state   age date_joined number_dependants  \\\n",
       "7816        Rhode Island  68.0    3/4/2020               0.0   \n",
       "7817        Rhode Island  68.0    3/4/2020               0.0   \n",
       "15172             Hawaii  55.0  11/11/2018               2.0   \n",
       "20294             Hawaii  80.0   10/6/2019               2.0   \n",
       "20528          Louisiana  59.0   8/23/2019               3.0   \n",
       "...                  ...   ...         ...               ...   \n",
       "32333838    Rhode Island  58.0   1/25/2019               1.0   \n",
       "32337924    Rhode Island  35.0    8/4/2018               0.0   \n",
       "32340853    Rhode Island  78.0    5/8/2019               2.0   \n",
       "32360118  South Carolina  48.0   1/18/2017               2.0   \n",
       "32360119  South Carolina  48.0   1/18/2017               2.0   \n",
       "\n",
       "             family_status    income _merge  \n",
       "7816      divorced/widowed  177864.0   both  \n",
       "7817      divorced/widowed  177864.0   both  \n",
       "15172              married  230074.0   both  \n",
       "20294              married  233776.0   both  \n",
       "20528              married  182933.0   both  \n",
       "...                    ...       ...    ...  \n",
       "32333838           married  207497.0   both  \n",
       "32337924            single   86490.0   both  \n",
       "32340853           married  195077.0   both  \n",
       "32360118           married  398880.0   both  \n",
       "32360119           married  398880.0   both  \n",
       "\n",
       "[5127 rows x 36 columns]"
      ]
     },
     "execution_count": 6,
     "metadata": {},
     "output_type": "execute_result"
    }
   ],
   "source": [
    "# Isolating outliers\n",
    "\n",
    "combo_df.loc[combo_df['prices'] > 100]"
   ]
  },
  {
   "cell_type": "code",
   "execution_count": 7,
   "id": "7efeb639",
   "metadata": {},
   "outputs": [],
   "source": [
    "# Using np.nan to remove outlying data from calculations\n",
    "\n",
    "combo_df.loc[combo_df['prices'] > 100, ['prices']] = np.nan"
   ]
  },
  {
   "cell_type": "code",
   "execution_count": 20,
   "id": "435ad1f7",
   "metadata": {},
   "outputs": [
    {
     "data": {
      "text/plain": [
       "25.0"
      ]
     },
     "execution_count": 20,
     "metadata": {},
     "output_type": "execute_result"
    }
   ],
   "source": [
    "# Checking for new max values\n",
    "\n",
    "combo_df['prices'].max()"
   ]
  },
  {
   "cell_type": "code",
   "execution_count": 21,
   "id": "c5bf60ef",
   "metadata": {},
   "outputs": [
    {
     "data": {
      "image/png": "[encoded data removed]",
      "text/plain": [
       "<Figure size 432x288 with 1 Axes>"
      ]
     },
     "metadata": {
      "needs_background": "light"
     },
     "output_type": "display_data"
    }
   ],
   "source": [
    "# Retrying the histogram\n",
    "\n",
    "hist = combo_df['prices'].plot.hist(bins = 25)"
   ]
  },
  {
   "cell_type": "code",
   "execution_count": 22,
   "id": "5917abc6",
   "metadata": {},
   "outputs": [
    {
     "data": {
      "image/png": "[encoded data removed]",
      "text/plain": [
       "<Figure size 432x288 with 1 Axes>"
      ]
     },
     "metadata": {
      "needs_background": "light"
     },
     "output_type": "display_data"
    }
   ],
   "source": [
    "# Changing the histogram's granularity\n",
    "\n",
    "hist_2 = combo_df['prices'].plot.hist(bins = 70)"
   ]
  },
  {
   "cell_type": "code",
   "execution_count": 23,
   "id": "68df7116",
   "metadata": {},
   "outputs": [],
   "source": [
    "# Exporting hist\n",
    "\n",
    "hist.figure.savefig(os.path.join(path, '04 Analysis', 'Visualizations', 'histogram_prices_combo.png'))"
   ]
  },
  {
   "cell_type": "code",
   "execution_count": 24,
   "id": "6036b796",
   "metadata": {},
   "outputs": [],
   "source": [
    "# Exporting hist_2\n",
    "\n",
    "hist_2.figure.savefig(os.path.join(path, '04 Analysis', 'Visualizations', 'histogram2_prices_combo.png'))"
   ]
  },
  {
   "cell_type": "markdown",
   "id": "9517ba49",
   "metadata": {},
   "source": [
    "### Line Charts"
   ]
  },
  {
   "cell_type": "markdown",
   "id": "bf2f801a",
   "metadata": {},
   "source": [
    "##### Creating Sample Set"
   ]
  },
  {
   "cell_type": "code",
   "execution_count": 4,
   "id": "f31c549a",
   "metadata": {},
   "outputs": [],
   "source": [
    "# Creating random number values with seed(4)\n",
    "\n",
    "np.random.seed(4)\n",
    "dev = np.random.rand(len(combo_df)) <= 0.7"
   ]
  },
  {
   "cell_type": "code",
   "execution_count": 5,
   "id": "a3da3e54",
   "metadata": {},
   "outputs": [],
   "source": [
    "# Sorting results into two sample sets\n",
    "\n",
    "biggie = combo_df[dev]\n",
    "smalls = combo_df[~dev]"
   ]
  },
  {
   "cell_type": "code",
   "execution_count": 6,
   "id": "29599809",
   "metadata": {},
   "outputs": [
    {
     "data": {
      "text/plain": [
       "32435070"
      ]
     },
     "execution_count": 6,
     "metadata": {},
     "output_type": "execute_result"
    }
   ],
   "source": [
    "# Checking sample sets using len()\n",
    "\n",
    "len(combo_df)"
   ]
  },
  {
   "cell_type": "code",
   "execution_count": 7,
   "id": "5b76af84",
   "metadata": {},
   "outputs": [
    {
     "data": {
      "text/plain": [
       "32435070"
      ]
     },
     "execution_count": 7,
     "metadata": {},
     "output_type": "execute_result"
    }
   ],
   "source": [
    "len(biggie) + len(smalls)"
   ]
  },
  {
   "cell_type": "code",
   "execution_count": 9,
   "id": "5607aaaa",
   "metadata": {},
   "outputs": [],
   "source": [
    "# Creating new df from Smalls with only Orders DOW & Prices columns\n",
    "\n",
    "test_df_1 = smalls[['orders_day_of_week', 'prices']]"
   ]
  },
  {
   "cell_type": "code",
   "execution_count": 10,
   "id": "52bcb2cf",
   "metadata": {
    "scrolled": false
   },
   "outputs": [
    {
     "data": {
      "image/png": "[encoded data removed]",
      "text/plain": [
       "<Figure size 432x288 with 1 Axes>"
      ]
     },
     "metadata": {
      "needs_background": "light"
     },
     "output_type": "display_data"
    }
   ],
   "source": [
    "# Creating a line chart using sns.lineplot()\n",
    "\n",
    "line_1 = sns.lineplot(x = 'orders_day_of_week', y = 'prices', data = test_df_1)"
   ]
  },
  {
   "cell_type": "markdown",
   "id": "b4db2c5c",
   "metadata": {},
   "source": [
    "# Q.3 - You need to provide the Instacart senior stakeholders with descriptive findings about sales. Create a histogram of the “order_hour_of_day” column. \n",
    "\n",
    "##  In a markdown cell beneath your histogram, describe what the histogram demonstrates."
   ]
  },
  {
   "cell_type": "code",
   "execution_count": 12,
   "id": "02c16474",
   "metadata": {},
   "outputs": [
    {
     "data": {
      "image/png": "[encoded data removed]",
      "text/plain": [
       "<Figure size 432x288 with 1 Axes>"
      ]
     },
     "metadata": {
      "needs_background": "light"
     },
     "output_type": "display_data"
    }
   ],
   "source": [
    "# Creating initial histogram for Order Time of Day variable, using 24 bins for 24 hours/day\n",
    "\n",
    "histo_1 = combo_df['order_time_of_day'].plot.hist(bins = 24)"
   ]
  },
  {
   "cell_type": "markdown",
   "id": "a70f2641",
   "metadata": {},
   "source": [
    "### It appears that our peak ordering hours are from 10am to about 3pm. Orders begin a steady decline around 4pm until the end of day.\n",
    "\n",
    "### Our slowest ordering hours fall between 12am and 7am, while most of our clients are likely asleep.\n",
    "\n",
    "### Utilizing our knowledge of peak ordering hours enables us to make data-informed decisions about staff scheduling in order to fulfill customer orders as efficiently as possible.\n",
    "\n",
    "### Similarly, we can utilize our slowest hours to schedule product deliveries to the store and schedule staff to restock shelves and monitor inventory, preparing for the day's incoming orders."
   ]
  },
  {
   "cell_type": "markdown",
   "id": "db387ee9",
   "metadata": {},
   "source": [
    "# Q.4 - The marketing team is curious about the distribution of orders among customers in terms of loyalty. Create a bar chart from the “loyalty_flag” column."
   ]
  },
  {
   "cell_type": "code",
   "execution_count": 13,
   "id": "bb1d8e16",
   "metadata": {},
   "outputs": [
    {
     "data": {
      "image/png": "[encoded data removed]",
      "text/plain": [
       "<Figure size 432x288 with 1 Axes>"
      ]
     },
     "metadata": {
      "needs_background": "light"
     },
     "output_type": "display_data"
    }
   ],
   "source": [
    "# Creating bar chart for Loyalty Flag variable\n",
    "\n",
    "bar_loyalty = combo_df['loyalty_flag'].value_counts().plot.bar()"
   ]
  },
  {
   "cell_type": "markdown",
   "id": "4a44c54a",
   "metadata": {},
   "source": [
    "# Q.5 - Check whether there’s a difference in expenditure (the “prices” column) depending on the hour of the day."
   ]
  },
  {
   "cell_type": "code",
   "execution_count": 14,
   "id": "f1f36dd5",
   "metadata": {},
   "outputs": [],
   "source": [
    "# Creating new df from Smalls (our accurate sample set)\n",
    "# with only Order Time of Day & Prices columns\n",
    "\n",
    "test_df_2 = smalls[['order_time_of_day', 'prices']]"
   ]
  },
  {
   "cell_type": "code",
   "execution_count": 15,
   "id": "9a599420",
   "metadata": {},
   "outputs": [
    {
     "data": {
      "image/png": "[encoded data removed]",
      "text/plain": [
       "<Figure size 432x288 with 1 Axes>"
      ]
     },
     "metadata": {
      "needs_background": "light"
     },
     "output_type": "display_data"
    }
   ],
   "source": [
    "# Creating a line chart using sns.lineplot() with new variables\n",
    "\n",
    "line_2 = sns.lineplot(x = 'order_time_of_day', y = 'prices', data = test_df_2)"
   ]
  },
  {
   "cell_type": "markdown",
   "id": "104696c1",
   "metadata": {},
   "source": [
    "# Q.6 - Conduct some exploratory analysis of customer demographics to inform the targeted marketing campaigns. First, determine whether there’s a connection between age and family status by creating a line chart exploring the connections between age and number of dependents: \n",
    "\n",
    "## In a markdown cell beneath your line chart, describe what the line chart shows.\n"
   ]
  },
  {
   "cell_type": "code",
   "execution_count": 18,
   "id": "ca73eb20",
   "metadata": {},
   "outputs": [],
   "source": [
    "# Creating new df from Smalls (our accurate sample set)\n",
    "# with only Age & Number Dependants columns\n",
    "\n",
    "test_df_3 = smalls[['age', 'number_dependants']]"
   ]
  },
  {
   "cell_type": "code",
   "execution_count": 19,
   "id": "e1a5eb1f",
   "metadata": {},
   "outputs": [
    {
     "data": {
      "image/png": "[encoded data removed]",
      "text/plain": [
       "<Figure size 432x288 with 1 Axes>"
      ]
     },
     "metadata": {
      "needs_background": "light"
     },
     "output_type": "display_data"
    }
   ],
   "source": [
    "# Creating a line chart using sns.lineplot() with new variables\n",
    "\n",
    "line_3 = sns.lineplot(x = 'age', y = 'number_dependants', data = test_df_3)"
   ]
  },
  {
   "cell_type": "code",
   "execution_count": 20,
   "id": "c0a2637e",
   "metadata": {},
   "outputs": [],
   "source": [
    "# Creating random number values with seed(4)\n",
    "\n",
    "np.random.seed(10)\n",
    "dev2 = np.random.rand(len(combo_df)) <= 0.7"
   ]
  },
  {
   "cell_type": "code",
   "execution_count": 21,
   "id": "1cc9bc7a",
   "metadata": {},
   "outputs": [],
   "source": [
    "# Sorting results into two new sample sets\n",
    "\n",
    "gordo = combo_df[dev2]\n",
    "tiny = combo_df[~dev2]"
   ]
  },
  {
   "cell_type": "code",
   "execution_count": 22,
   "id": "caa9b18c",
   "metadata": {},
   "outputs": [],
   "source": [
    "# Creating new df from Tiny (our accurate sample set)\n",
    "# with only Age & Number Dependants columns\n",
    "\n",
    "test_df_4 = tiny[['age', 'number_dependants']]"
   ]
  },
  {
   "cell_type": "code",
   "execution_count": 23,
   "id": "1ed2ce99",
   "metadata": {},
   "outputs": [
    {
     "data": {
      "image/png": "[encoded data removed]",
      "text/plain": [
       "<Figure size 432x288 with 1 Axes>"
      ]
     },
     "metadata": {
      "needs_background": "light"
     },
     "output_type": "display_data"
    }
   ],
   "source": [
    "# Creating a line chart using sns.lineplot() with Tiny\n",
    "\n",
    "line_4 = sns.lineplot(x = 'age', y = 'number_dependants', data = test_df_4)"
   ]
  },
  {
   "cell_type": "markdown",
   "id": "e6952180",
   "metadata": {},
   "source": [
    "### After creating the line chart for age v. number of dependants twice, with two separate sample sets, the results are similar. There does not appear to be reliable correlation between age and number of dependants. For our customers, the number of dependants can vary significantly for any given age. Therefore, the age of the customer will not readily predict the number of dependants in their home (and likely won't predict to larger grocery purchases)."
   ]
  },
  {
   "cell_type": "markdown",
   "id": "6ae0e8e1",
   "metadata": {},
   "source": [
    "# Q.7 - You’ll also need to explore whether there’s a connection between age and spending power. To visualize this relationship, create a scatterplot using the sns.scatterplot() function.\n",
    "\n",
    "##  In a markdown cell beneath your scatterplot, describe what the scatterplot shows."
   ]
  },
  {
   "cell_type": "code",
   "execution_count": 8,
   "id": "3afbf868",
   "metadata": {},
   "outputs": [
    {
     "data": {
      "text/plain": [
       "<AxesSubplot:xlabel='age', ylabel='income'>"
      ]
     },
     "execution_count": 8,
     "metadata": {},
     "output_type": "execute_result"
    },
    {
     "data": {
      "image/png": "[encoded data removed]",
      "text/plain": [
       "<Figure size 432x288 with 1 Axes>"
      ]
     },
     "metadata": {
      "needs_background": "light"
     },
     "output_type": "display_data"
    }
   ],
   "source": [
    "# Creating scatterplot for Age v. Income\n",
    "\n",
    "sns.scatterplot(x = 'age', y = 'income', data = combo_df)"
   ]
  },
  {
   "cell_type": "code",
   "execution_count": 9,
   "id": "23d6cb9e",
   "metadata": {},
   "outputs": [
    {
     "data": {
      "text/plain": [
       "18.0"
      ]
     },
     "execution_count": 9,
     "metadata": {},
     "output_type": "execute_result"
    }
   ],
   "source": [
    "combo_df['age'].min()"
   ]
  },
  {
   "cell_type": "code",
   "execution_count": 10,
   "id": "9d6bc575",
   "metadata": {},
   "outputs": [
    {
     "data": {
      "text/plain": [
       "81.0"
      ]
     },
     "execution_count": 10,
     "metadata": {},
     "output_type": "execute_result"
    }
   ],
   "source": [
    "combo_df['age'].max()"
   ]
  },
  {
   "cell_type": "code",
   "execution_count": 11,
   "id": "89c5c33a",
   "metadata": {},
   "outputs": [
    {
     "data": {
      "text/plain": [
       "25903.0"
      ]
     },
     "execution_count": 11,
     "metadata": {},
     "output_type": "execute_result"
    }
   ],
   "source": [
    "combo_df['income'].min()"
   ]
  },
  {
   "cell_type": "code",
   "execution_count": 12,
   "id": "fe79b6b3",
   "metadata": {},
   "outputs": [
    {
     "data": {
      "text/plain": [
       "593901.0"
      ]
     },
     "execution_count": 12,
     "metadata": {},
     "output_type": "execute_result"
    }
   ],
   "source": [
    "combo_df['income'].max()"
   ]
  },
  {
   "cell_type": "code",
   "execution_count": 13,
   "id": "bbbbd7ff",
   "metadata": {},
   "outputs": [
    {
     "data": {
      "image/png": "[encoded data removed]",
      "text/plain": [
       "<Figure size 432x288 with 1 Axes>"
      ]
     },
     "metadata": {
      "needs_background": "light"
     },
     "output_type": "display_data"
    }
   ],
   "source": [
    "age_income_scplot = sns.scatterplot(x = 'age', y = 'income', data = combo_df)"
   ]
  },
  {
   "cell_type": "markdown",
   "id": "710e39b7",
   "metadata": {},
   "source": [
    "### According to our scatterplot, there are a few common trends between two age groups: ages 18 - 40, ages 41+.\n",
    "\n",
    "### Among customers aged 18-40, income is most commonly 200,000 dollars and lower, with a maximum income of about 400,000 dollars.\n",
    "\n",
    "### For customers aged 41 and older, income most commonly falls 300,000 dollars and lower, with a maximum income of about 600,000 dollars.\n",
    "\n",
    "### Customer ages range between 18 (minimum) and 81 (maximum).\n",
    "\n",
    "### Customer income ranges between 25,903 (minimum) and 593,901 (maximum) dollars."
   ]
  },
  {
   "cell_type": "markdown",
   "id": "e33750e7",
   "metadata": {},
   "source": [
    "# Q.8 - Export your visualizations as “.png” files in your relevant project folder."
   ]
  },
  {
   "cell_type": "code",
   "execution_count": 41,
   "id": "4bbad725",
   "metadata": {},
   "outputs": [],
   "source": [
    "# Exporting lineplot of Orders DOW & Prices from Q.2\n",
    "\n",
    "line_1.figure.savefig(os.path.join(path, '04 Analysis', 'Visualizations', 'lineplot-orders_dow_v_prices.png'))"
   ]
  },
  {
   "cell_type": "code",
   "execution_count": 42,
   "id": "7a3e6d03",
   "metadata": {},
   "outputs": [],
   "source": [
    "# Exporting Time of Day histogram from Q.3\n",
    "\n",
    "histo_1.figure.savefig(os.path.join(path, '04 Analysis', 'Visualizations', 'histogram-orders_time_of_day.png'))"
   ]
  },
  {
   "cell_type": "code",
   "execution_count": 43,
   "id": "158baf28",
   "metadata": {},
   "outputs": [],
   "source": [
    "# Exporting Loyalty bar chart from Q.4\n",
    "\n",
    "bar_loyalty.figure.savefig(os.path.join(path, '04 Analysis', 'Visualizations', 'bar-loyalty.png'))"
   ]
  },
  {
   "cell_type": "code",
   "execution_count": 44,
   "id": "ca8f85c4",
   "metadata": {},
   "outputs": [],
   "source": [
    "# Exporting Expenditure line chart from Q.5\n",
    "\n",
    "line_2.figure.savefig(os.path.join(path, '04 Analysis', 'Visualizations', 'lineplot-expenditures_v_time_of_day.png'))"
   ]
  },
  {
   "cell_type": "code",
   "execution_count": 45,
   "id": "586b552a",
   "metadata": {},
   "outputs": [],
   "source": [
    "# Exporting Age v. Dependants linechart from Q.6\n",
    "\n",
    "line_3.figure.savefig(os.path.join(path, '04 Analysis', 'Visualizations', 'lineplot-age_v_dependants.png'))"
   ]
  },
  {
   "cell_type": "code",
   "execution_count": 46,
   "id": "e5009556",
   "metadata": {},
   "outputs": [],
   "source": [
    "# Exporting second Age v. Dependants linechart from Q.6\n",
    "\n",
    "line_4.figure.savefig(os.path.join(path, '04 Analysis', 'Visualizations', 'lineplot-age_v_dependants_2.png'))"
   ]
  },
  {
   "cell_type": "code",
   "execution_count": 14,
   "id": "f489b980",
   "metadata": {},
   "outputs": [],
   "source": [
    "# Exporting Scatterplot from Q.7\n",
    "\n",
    "age_income_scplot.figure.savefig(os.path.join(path, '04 Analysis', 'Visualizations', 'scatterplot-age_v_income.png'))"
   ]
  },
  {
   "cell_type": "markdown",
   "id": "ff20416a",
   "metadata": {},
   "source": [
    "# Q.9 - Save your notebook from part 2 of this Exercise’s task."
   ]
  },
  {
   "cell_type": "code",
   "execution_count": 15,
   "id": "f4c7a995",
   "metadata": {},
   "outputs": [],
   "source": [
    "# Exporting combo_df df as \"combo_df_2\"\n",
    "\n",
    "combo_df.to_pickle(os.path.join(path, '02 Data', 'Prepared Data', 'combo_df_2.pkl'))"
   ]
  },
  {
   "cell_type": "code",
   "execution_count": null,
   "id": "0cea5c51",
   "metadata": {},
   "outputs": [],
   "source": []
  }
 ],
 "metadata": {
  "kernelspec": {
   "display_name": "Python 3",
   "language": "python",
   "name": "python3"
  },
  "language_info": {
   "codemirror_mode": {
    "name": "ipython",
    "version": 3
   },
   "file_extension": ".py",
   "mimetype": "text/x-python",
   "name": "python",
   "nbconvert_exporter": "python",
   "pygments_lexer": "ipython3",
   "version": "3.8.8"
  }
 },
 "nbformat": 4,
 "nbformat_minor": 5
}
